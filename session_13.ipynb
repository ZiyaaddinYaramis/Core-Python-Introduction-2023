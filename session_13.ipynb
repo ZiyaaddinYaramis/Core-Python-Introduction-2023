{
 "cells": [
  {
   "cell_type": "code",
   "execution_count": 2,
   "metadata": {},
   "outputs": [],
   "source": [
    "sayılar_listesi = [1,15,2,36,5,89,45,62,52,71,30,56,45,95,61,48]"
   ]
  },
  {
   "cell_type": "code",
   "execution_count": 15,
   "metadata": {},
   "outputs": [
    {
     "name": "stdout",
     "output_type": "stream",
     "text": [
      "[1, 15, 5, 89, 45, 71, 45, 95, 61]\n",
      "[2, 36, 62, 52, 30, 56, 48]\n",
      "====================\n",
      "f string ile yazdırma\n",
      "Tek sayilar listesi: [1, 5, 15, 45, 45, 61, 71, 89, 95]\n",
      "Cift sayilar listesi: [2, 30, 36, 48, 52, 56, 62]\n",
      "====================\n",
      "format ile yazdırma\n",
      "Tek sayilar listesi: [1, 5, 15, 45, 45, 61, 71, 89, 95]. Bu liste 9 elemanlidir\n",
      "Cift sayilar listesi: [2, 30, 36, 48, 52, 56, 62]. Bu liste 7 elemanlidir\n"
     ]
    }
   ],
   "source": [
    "\n",
    "evens = []\n",
    "odds = []\n",
    "\n",
    "x = 0\n",
    "\n",
    "while x< len(sayılar_listesi):\n",
    " if sayılar_listesi[x] % 2 == 0:\n",
    "  evens.append(sayılar_listesi[x])\n",
    " else:\n",
    "  odds.append(sayılar_listesi[x])\n",
    " x += 1\n",
    "\n",
    "print(odds)\n",
    "print(evens)\n",
    "\n",
    "odds.sort() # listeyi küçükten büyüğe sıralar\n",
    "evens.sort() # listeyi küçükten büyüğe sıralar\n",
    "\n",
    "\n",
    "\n",
    "print (\"====================\")\n",
    "\n",
    "# f string ile yazdırma\n",
    "print(\"f string ile yazdırma\")\n",
    "print(f\"Tek sayilar listesi: {odds}\")\n",
    "print(f\"Cift sayilar listesi: {evens}\")\n",
    "\n",
    "\n",
    "print (\"====================\")\n",
    "\n",
    "# format ile yazdırma\n",
    "print(\"format ile yazdırma\")\n",
    "print(\"Tek sayilar listesi: {}. Bu liste {} elemanlidir\".format(odds, len(odds)))\n",
    "print(\"Cift sayilar listesi: {}. Bu liste {} elemanlidir\".format(evens, len(evens)))\n",
    "\n",
    "\n"
   ]
  },
  {
   "cell_type": "code",
   "execution_count": 16,
   "metadata": {},
   "outputs": [
    {
     "name": "stdout",
     "output_type": "stream",
     "text": [
      "Daha buyuk bir sayi giriniz\n",
      "Daha buyuk bir sayi giriniz\n",
      "Daha buyuk bir sayi giriniz\n",
      "Daha kucuk bir sayi giriniz\n",
      "Tebrikler, sayiyi buldunuz!\n"
     ]
    }
   ],
   "source": [
    "sayi = 55\n",
    "\n",
    "while True:\n",
    "    tahmin = int(input(\"Tahmininizi giriniz: \"))\n",
    "    if tahmin == sayi:\n",
    "        print(\"Tebrikler, sayiyi buldunuz!\")\n",
    "        break\n",
    "    elif tahmin < sayi:\n",
    "        print(\"Daha buyuk bir sayi giriniz\")\n",
    "    else:\n",
    "        print(\"Daha kucuk bir sayi giriniz\")"
   ]
  },
  {
   "cell_type": "code",
   "execution_count": 28,
   "metadata": {},
   "outputs": [
    {
     "name": "stdout",
     "output_type": "stream",
     "text": [
      "Girdiğiniz sayi 60 sayisindan buyuktur. Daha kucuk bir sayi giriniz\n",
      "Girdiğiniz sayi 61 sayisindan buyuktur. Daha kucuk bir sayi giriniz\n",
      "Girdiğiniz sayi 55 sayisidir. Tebrikler, sayiyi buldunuz!\n"
     ]
    }
   ],
   "source": [
    "\n",
    "sayi = 55\n",
    "\n",
    "while True:\n",
    " tahmin = int(input(\"Tahmininizi giriniz: \"))\n",
    " if tahmin == sayi:\n",
    "  print(f\"Girdiğiniz sayi {sayi} sayisidir. Tebrikler, sayiyi buldunuz!\")\n",
    "  break\n",
    " elif tahmin < sayi:\n",
    "  print(f\"Girdiğiniz sayi {tahmin} sayisindan kucuktur. Daha buyuk bir sayi giriniz\")\n",
    " else:\n",
    "  print(f\"Girdiğiniz sayi {tahmin} sayisindan buyuktur. Daha kucuk bir sayi giriniz\")"
   ]
  },
  {
   "cell_type": "code",
   "execution_count": 25,
   "metadata": {},
   "outputs": [
    {
     "name": "stdout",
     "output_type": "stream",
     "text": [
      "Girdiğiniz sayi 56 sayisindan buyuktur. Daha kucuk bir sayi giriniz\n",
      "Girdiğiniz sayi 85 sayisindan buyuktur. Daha kucuk bir sayi giriniz\n",
      "Girdiğiniz sayi 12 sayisindan kucuktur. Daha buyuk bir sayi giriniz\n",
      "Girdiğiniz sayi 55 sayisidir. Tebrikler, 4 'inci tahminde sayiyi buldunuz!\n"
     ]
    }
   ],
   "source": [
    "sayi = 55\n",
    "\n",
    "sayac = 0\n",
    "\n",
    "while True:\n",
    " sayac += 1\n",
    "\n",
    " tahmin = int(input(\"Tahmininizi giriniz: \"))\n",
    "\n",
    " if tahmin == sayi:\n",
    "  print(f\"Girdiğiniz sayi {sayi} sayisidir. Tebrikler, {sayac} 'inci tahminde sayiyi buldunuz!\")\n",
    "  break\n",
    " elif tahmin < sayi:\n",
    "  print(f\"Girdiğiniz sayi {tahmin} sayisindan kucuktur. Daha buyuk bir sayi giriniz\")\n",
    " else:\n",
    "  print(f\"Girdiğiniz sayi {tahmin} sayisindan buyuktur. Daha kucuk bir sayi giriniz\")"
   ]
  },
  {
   "cell_type": "code",
   "execution_count": null,
   "metadata": {},
   "outputs": [],
   "source": [
    "# Hocanin örnegini yaz"
   ]
  },
  {
   "cell_type": "markdown",
   "metadata": {},
   "source": [
    "# random modulu"
   ]
  },
  {
   "cell_type": "code",
   "execution_count": null,
   "metadata": {},
   "outputs": [],
   "source": [
    "# import ramdom as rd # as yapisi yeni isim vermeyi saglar"
   ]
  },
  {
   "cell_type": "code",
   "execution_count": 29,
   "metadata": {},
   "outputs": [],
   "source": [
    "import random"
   ]
  },
  {
   "cell_type": "code",
   "execution_count": 32,
   "metadata": {},
   "outputs": [
    {
     "data": {
      "text/plain": [
       "0.018856453669089612"
      ]
     },
     "execution_count": 32,
     "metadata": {},
     "output_type": "execute_result"
    }
   ],
   "source": [
    "random.random() # 0 ile 1 arasinda rastgele bir sayi uretir"
   ]
  },
  {
   "cell_type": "code",
   "execution_count": 75,
   "metadata": {},
   "outputs": [
    {
     "name": "stdout",
     "output_type": "stream",
     "text": [
      "0.5714025946899135\n",
      "0.4288890546751146\n"
     ]
    }
   ],
   "source": [
    "random.seed(10) # ayni sayiyi uretmek icin seed kullanilir\n",
    "print(random.random())  # 0.5714025946899135\n",
    "print(random.random())  # 0.4288890546751146"
   ]
  },
  {
   "cell_type": "markdown",
   "metadata": {},
   "source": [
    "`random.seed()` fonksiyonu, rastgele sayı üretme işleminde kullanılan başlangıç değerini belirlemek için kullanılır. \n",
    "\n",
    "Python'da `random` modülü, rastgele sayılar üretmek için kullanılır. Ancak, rastgele sayılar her çalıştırıldığında farklı olabilir. Bu nedenle, aynı rastgele sayıları elde etmek için, `random.seed()` fonksiyonu kullanılabilir. \n",
    "\n",
    "`random.seed()` fonksiyonuna bir parametre verilmezse, her çalıştırıldığında farklı bir başlangıç değeri kullanılır. Ancak, aynı parametre verilirse, her zaman aynı rastgele sayılar üretilir. \n",
    "\n",
    "Örneğin, aşağıdaki kodda `random.seed(10)` fonksiyonu, rastgele sayı üretme işleminde kullanılacak başlangıç değerini `10` olarak belirler:\n",
    "\n"
   ]
  },
  {
   "cell_type": "code",
   "execution_count": null,
   "metadata": {},
   "outputs": [],
   "source": [
    "import random\n",
    "\n",
    "random.seed(10)\n",
    "print(random.random())  # 0.5714025946899135\n",
    "print(random.random())  # 0.4288890546751146"
   ]
  },
  {
   "cell_type": "markdown",
   "metadata": {},
   "source": [
    "\n",
    "\n",
    "Bu kod her çalıştırıldığında aynı rastgele sayıları üretir, çünkü her seferinde aynı başlangıç değeri kullanılır."
   ]
  },
  {
   "cell_type": "code",
   "execution_count": 38,
   "metadata": {},
   "outputs": [
    {
     "data": {
      "text/plain": [
       "74"
      ]
     },
     "execution_count": 38,
     "metadata": {},
     "output_type": "execute_result"
    }
   ],
   "source": [
    "random.randint(1,100) # 1 ile 100 arasinda rastgele bir tam sayi uretir"
   ]
  },
  {
   "cell_type": "code",
   "execution_count": null,
   "metadata": {},
   "outputs": [],
   "source": [
    "#What is the difference between `random.random()` and `random.randint()` functions in Python?"
   ]
  },
  {
   "cell_type": "markdown",
   "metadata": {},
   "source": [
    "`random.random()` and `random.randint()` are both functions in the Python `random` module, but they have different purposes.\n",
    "\n",
    "`random.random()` function returns a random floating-point number between 0 and 1 (inclusive of 0, but exclusive of 1). This function takes no arguments.\n",
    "\n",
    "`random.randint(a, b)` function returns a random integer between `a` and `b` (inclusive of both `a` and `b`). This function takes two arguments: `a` and `b`.\n",
    "\n",
    "In summary, `random.random()` returns a random float between 0 and 1, while `random.randint(a, b)` returns a random integer between `a` and `b`."
   ]
  },
  {
   "cell_type": "markdown",
   "metadata": {},
   "source": [
    "# min(), max()"
   ]
  },
  {
   "cell_type": "code",
   "execution_count": 76,
   "metadata": {},
   "outputs": [],
   "source": [
    "liste_1 = [1,2,3,4,5,6,7,8,9,10]"
   ]
  },
  {
   "cell_type": "code",
   "execution_count": 77,
   "metadata": {},
   "outputs": [
    {
     "data": {
      "text/plain": [
       "1"
      ]
     },
     "execution_count": 77,
     "metadata": {},
     "output_type": "execute_result"
    }
   ],
   "source": [
    "min(liste_1) # listenin en kucuk elemanini verir"
   ]
  },
  {
   "cell_type": "code",
   "execution_count": null,
   "metadata": {},
   "outputs": [],
   "source": [
    "max(liste_1) # listenin en buyuk elemanini verir"
   ]
  },
  {
   "cell_type": "code",
   "execution_count": 86,
   "metadata": {},
   "outputs": [],
   "source": [
    "liste_2 = [1,2,3,4,5,6,7,8,9,10, \"a\", \"b\", \"c\"]"
   ]
  },
  {
   "cell_type": "code",
   "execution_count": null,
   "metadata": {},
   "outputs": [],
   "source": [
    "min(liste_2) # TypeError: '<' not supported between instances of 'str' and 'int'"
   ]
  },
  {
   "cell_type": "code",
   "execution_count": 81,
   "metadata": {},
   "outputs": [
    {
     "data": {
      "text/plain": [
       "'ali'"
      ]
     },
     "execution_count": 81,
     "metadata": {},
     "output_type": "execute_result"
    }
   ],
   "source": [
    "min([\"sedat\", \"ali\", \"veli\", \"ayse\", \"fatma\"]) # alfabetik olarak en kucuk elemani verir"
   ]
  },
  {
   "cell_type": "code",
   "execution_count": 85,
   "metadata": {},
   "outputs": [],
   "source": [
    "liste_1 = [4,5,6,9,85,1,23,65,47,32,91] \n",
    "\n",
    "# listenin en kucuk elemanini bulun. (min ve max fonksiyonlarini kullanmadan)\n",
    "\n",
    "\n",
    "\n"
   ]
  }
 ],
 "metadata": {
  "kernelspec": {
   "display_name": "Python 3",
   "language": "python",
   "name": "python3"
  },
  "language_info": {
   "codemirror_mode": {
    "name": "ipython",
    "version": 3
   },
   "file_extension": ".py",
   "mimetype": "text/x-python",
   "name": "python",
   "nbconvert_exporter": "python",
   "pygments_lexer": "ipython3",
   "version": "3.11.6"
  }
 },
 "nbformat": 4,
 "nbformat_minor": 2
}
