{
 "cells": [
  {
   "cell_type": "code",
   "execution_count": 2,
   "metadata": {},
   "outputs": [],
   "source": [
    "sayılar_listesi = [1,15,2,36,5,89,45,62,52,71,30,56,45,95,61,48]"
   ]
  },
  {
   "cell_type": "code",
   "execution_count": 15,
   "metadata": {},
   "outputs": [
    {
     "name": "stdout",
     "output_type": "stream",
     "text": [
      "[1, 15, 5, 89, 45, 71, 45, 95, 61]\n",
      "[2, 36, 62, 52, 30, 56, 48]\n",
      "====================\n",
      "f string ile yazdırma\n",
      "Tek sayilar listesi: [1, 5, 15, 45, 45, 61, 71, 89, 95]\n",
      "Cift sayilar listesi: [2, 30, 36, 48, 52, 56, 62]\n",
      "====================\n",
      "format ile yazdırma\n",
      "Tek sayilar listesi: [1, 5, 15, 45, 45, 61, 71, 89, 95]. Bu liste 9 elemanlidir\n",
      "Cift sayilar listesi: [2, 30, 36, 48, 52, 56, 62]. Bu liste 7 elemanlidir\n"
     ]
    }
   ],
   "source": [
    "\n",
    "evens = []\n",
    "odds = []\n",
    "\n",
    "x = 0\n",
    "\n",
    "while x< len(sayılar_listesi):\n",
    " if sayılar_listesi[x] % 2 == 0:\n",
    "  evens.append(sayılar_listesi[x])\n",
    " else:\n",
    "  odds.append(sayılar_listesi[x])\n",
    " x += 1\n",
    "\n",
    "print(odds)\n",
    "print(evens)\n",
    "\n",
    "odds.sort() # listeyi küçükten büyüğe sıralar\n",
    "evens.sort() # listeyi küçükten büyüğe sıralar\n",
    "\n",
    "\n",
    "\n",
    "print (\"====================\")\n",
    "\n",
    "# f string ile yazdırma\n",
    "print(\"f string ile yazdırma\")\n",
    "print(f\"Tek sayilar listesi: {odds}\")\n",
    "print(f\"Cift sayilar listesi: {evens}\")\n",
    "\n",
    "\n",
    "print (\"====================\")\n",
    "\n",
    "# format ile yazdırma\n",
    "print(\"format ile yazdırma\")\n",
    "print(\"Tek sayilar listesi: {}. Bu liste {} elemanlidir\".format(odds, len(odds)))\n",
    "print(\"Cift sayilar listesi: {}. Bu liste {} elemanlidir\".format(evens, len(evens)))\n",
    "\n",
    "\n"
   ]
  },
  {
   "cell_type": "code",
   "execution_count": 16,
   "metadata": {},
   "outputs": [
    {
     "name": "stdout",
     "output_type": "stream",
     "text": [
      "Daha buyuk bir sayi giriniz\n",
      "Daha buyuk bir sayi giriniz\n",
      "Daha buyuk bir sayi giriniz\n",
      "Daha kucuk bir sayi giriniz\n",
      "Tebrikler, sayiyi buldunuz!\n"
     ]
    }
   ],
   "source": [
    "sayi = 55\n",
    "\n",
    "while True:\n",
    "    tahmin = int(input(\"Tahmininizi giriniz: \"))\n",
    "    if tahmin == sayi:\n",
    "        print(\"Tebrikler, sayiyi buldunuz!\")\n",
    "        break\n",
    "    elif tahmin < sayi:\n",
    "        print(\"Daha buyuk bir sayi giriniz\")\n",
    "    else:\n",
    "        print(\"Daha kucuk bir sayi giriniz\")"
   ]
  },
  {
   "cell_type": "code",
   "execution_count": 28,
   "metadata": {},
   "outputs": [
    {
     "name": "stdout",
     "output_type": "stream",
     "text": [
      "Girdiğiniz sayi 60 sayisindan buyuktur. Daha kucuk bir sayi giriniz\n",
      "Girdiğiniz sayi 61 sayisindan buyuktur. Daha kucuk bir sayi giriniz\n",
      "Girdiğiniz sayi 55 sayisidir. Tebrikler, sayiyi buldunuz!\n"
     ]
    }
   ],
   "source": [
    "\n",
    "sayi = 55\n",
    "\n",
    "while True:\n",
    " tahmin = int(input(\"Tahmininizi giriniz: \"))\n",
    " if tahmin == sayi:\n",
    "  print(f\"Girdiğiniz sayi {sayi} sayisidir. Tebrikler, sayiyi buldunuz!\")\n",
    "  break\n",
    " elif tahmin < sayi:\n",
    "  print(f\"Girdiğiniz sayi {tahmin} sayisindan kucuktur. Daha buyuk bir sayi giriniz\")\n",
    " else:\n",
    "  print(f\"Girdiğiniz sayi {tahmin} sayisindan buyuktur. Daha kucuk bir sayi giriniz\")"
   ]
  },
  {
   "cell_type": "code",
   "execution_count": 25,
   "metadata": {},
   "outputs": [
    {
     "name": "stdout",
     "output_type": "stream",
     "text": [
      "Girdiğiniz sayi 56 sayisindan buyuktur. Daha kucuk bir sayi giriniz\n",
      "Girdiğiniz sayi 85 sayisindan buyuktur. Daha kucuk bir sayi giriniz\n",
      "Girdiğiniz sayi 12 sayisindan kucuktur. Daha buyuk bir sayi giriniz\n",
      "Girdiğiniz sayi 55 sayisidir. Tebrikler, 4 'inci tahminde sayiyi buldunuz!\n"
     ]
    }
   ],
   "source": [
    "sayi = 55\n",
    "\n",
    "sayac = 0\n",
    "\n",
    "while True:\n",
    " sayac += 1\n",
    "\n",
    " tahmin = int(input(\"Tahmininizi giriniz: \"))\n",
    "\n",
    " if tahmin == sayi:\n",
    "  print(f\"Girdiğiniz sayi {sayi} sayisidir. Tebrikler, {sayac} 'inci tahminde sayiyi buldunuz!\")\n",
    "  break\n",
    " elif tahmin < sayi:\n",
    "  print(f\"Girdiğiniz sayi {tahmin} sayisindan kucuktur. Daha buyuk bir sayi giriniz\")\n",
    " else:\n",
    "  print(f\"Girdiğiniz sayi {tahmin} sayisindan buyuktur. Daha kucuk bir sayi giriniz\")"
   ]
  },
  {
   "cell_type": "markdown",
   "metadata": {},
   "source": [
    "# random modulu"
   ]
  },
  {
   "cell_type": "code",
   "execution_count": null,
   "metadata": {},
   "outputs": [],
   "source": []
  },
  {
   "cell_type": "code",
   "execution_count": null,
   "metadata": {},
   "outputs": [],
   "source": []
  },
  {
   "cell_type": "code",
   "execution_count": null,
   "metadata": {},
   "outputs": [],
   "source": []
  }
 ],
 "metadata": {
  "kernelspec": {
   "display_name": "Python 3",
   "language": "python",
   "name": "python3"
  },
  "language_info": {
   "codemirror_mode": {
    "name": "ipython",
    "version": 3
   },
   "file_extension": ".py",
   "mimetype": "text/x-python",
   "name": "python",
   "nbconvert_exporter": "python",
   "pygments_lexer": "ipython3",
   "version": "3.11.6"
  }
 },
 "nbformat": 4,
 "nbformat_minor": 2
}
