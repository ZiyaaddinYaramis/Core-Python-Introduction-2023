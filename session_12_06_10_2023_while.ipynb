{
 "cells": [
  {
   "cell_type": "markdown",
   "metadata": {},
   "source": [
    "# Loops"
   ]
  },
  {
   "cell_type": "markdown",
   "metadata": {},
   "source": [
    "## while"
   ]
  },
  {
   "cell_type": "code",
   "execution_count": null,
   "metadata": {},
   "outputs": [],
   "source": [
    "# Calistirma: sonsuz döngu\n",
    "while 10 > 5:\n",
    "    print(\"Bu döngü sonsuz bir döngüdür.\")\n"
   ]
  },
  {
   "cell_type": "code",
   "execution_count": 3,
   "metadata": {},
   "outputs": [
    {
     "name": "stdout",
     "output_type": "stream",
     "text": [
      "Bu döngü kosul saglandikca calisir. sonra durur. 5\n",
      "Bu döngü kosul saglandikca calisir. sonra durur. 6\n",
      "Bu döngü kosul saglandikca calisir. sonra durur. 7\n",
      "Bu döngü kosul saglandikca calisir. sonra durur. 8\n",
      "Bu döngü kosul saglandikca calisir. sonra durur. 9\n"
     ]
    }
   ],
   "source": [
    "x = 5\n",
    "while 10 > x:\n",
    "    print(\"Bu döngü kosul saglandikca calisir. sonra durur.\", x)\n",
    "    x = x + 1 # x += 1"
   ]
  },
  {
   "cell_type": "code",
   "execution_count": 4,
   "metadata": {},
   "outputs": [
    {
     "name": "stdout",
     "output_type": "stream",
     "text": [
      "x 10 dan kucuk oldugu surece yazsin. 1\n",
      "x 10 dan kucuk oldugu surece yazsin. 2\n",
      "x 10 dan kucuk oldugu surece yazsin. 3\n",
      "x 10 dan kucuk oldugu surece yazsin. 4\n",
      "x 10 dan kucuk oldugu surece yazsin. 5\n",
      "x 10 dan kucuk oldugu surece yazsin. 6\n",
      "x 10 dan kucuk oldugu surece yazsin. 7\n",
      "x 10 dan kucuk oldugu surece yazsin. 8\n",
      "x 10 dan kucuk oldugu surece yazsin. 9\n"
     ]
    }
   ],
   "source": [
    "x = 1\n",
    "while x < 10:\n",
    " print(\"x 10 dan kucuk oldugu surece yazsin.\", x)\n",
    " x = x + 1 # x += 1"
   ]
  },
  {
   "cell_type": "code",
   "execution_count": 5,
   "metadata": {},
   "outputs": [
    {
     "name": "stdout",
     "output_type": "stream",
     "text": [
      "1\n",
      "2\n",
      "3\n",
      "4\n",
      "5\n",
      "6\n",
      "7\n",
      "8\n",
      "9\n"
     ]
    }
   ],
   "source": [
    "x = 1\n",
    "\n",
    "while x < 10:\n",
    "    print(x)\n",
    "    x += 1"
   ]
  },
  {
   "cell_type": "code",
   "execution_count": 6,
   "metadata": {},
   "outputs": [
    {
     "name": "stdout",
     "output_type": "stream",
     "text": [
      "1\n",
      "2\n",
      "3\n",
      "4\n",
      "5\n",
      "6\n",
      "7\n",
      "8\n",
      "9\n"
     ]
    }
   ],
   "source": [
    "x = 1\n",
    "\n",
    "while 10 > x:\n",
    "    print(x)\n",
    "    x += 1"
   ]
  },
  {
   "cell_type": "code",
   "execution_count": 7,
   "metadata": {},
   "outputs": [
    {
     "name": "stdout",
     "output_type": "stream",
     "text": [
      "1\n",
      "2\n",
      "3\n",
      "4\n",
      "5\n",
      "6\n",
      "7\n",
      "8\n",
      "9\n"
     ]
    }
   ],
   "source": [
    "x = 0\n",
    "\n",
    "while x < 9:\n",
    "    x += 1\n",
    "    print(x)"
   ]
  },
  {
   "cell_type": "code",
   "execution_count": null,
   "metadata": {},
   "outputs": [],
   "source": [
    "# çalıştırma sonsuz döngü\n",
    "x = 1\n",
    "\n",
    "while x < 10:\n",
    "    print(x)\n",
    "\n",
    "x += 1 # işlem while indent i içerisinde değil.\n",
    "# while döngüsü içerisindeki işlemler while indent i içerisinde olmalıdır.\n",
    "# indent: girinti"
   ]
  },
  {
   "cell_type": "code",
   "execution_count": null,
   "metadata": {},
   "outputs": [],
   "source": [
    "while False:\n",
    "    print(\"Bu döngü çalışmaz.\")"
   ]
  },
  {
   "cell_type": "code",
   "execution_count": null,
   "metadata": {},
   "outputs": [],
   "source": [
    "while 0:\n",
    "    print(\"Bu döngü çalışmaz.\")"
   ]
  },
  {
   "cell_type": "code",
   "execution_count": null,
   "metadata": {},
   "outputs": [],
   "source": [
    "# Çalıştırma. sonsuz döngü.\n",
    "x = 1\n",
    "while True:\n",
    "    print(x, \"sonsuza gider\")\n",
    "    x += 1"
   ]
  },
  {
   "cell_type": "code",
   "execution_count": 10,
   "metadata": {},
   "outputs": [
    {
     "name": "stdout",
     "output_type": "stream",
     "text": [
      "while döngüsü condition False olana kadara çalışır\n"
     ]
    }
   ],
   "source": [
    "y = True\n",
    "\n",
    "while y:\n",
    "    print(\"while döngüsü condition False olana kadara çalışır\")\n",
    "    y = False"
   ]
  },
  {
   "cell_type": "code",
   "execution_count": null,
   "metadata": {},
   "outputs": [],
   "source": [
    "# Dont run\n",
    "y = True\n",
    "\n",
    "while y:\n",
    "    print(\"while döngüsü condition False olana kadara çalışır\")\n",
    "\n",
    "y = False"
   ]
  },
  {
   "cell_type": "code",
   "execution_count": 11,
   "metadata": {},
   "outputs": [
    {
     "name": "stdout",
     "output_type": "stream",
     "text": [
      "1\n",
      "2\n",
      "3\n",
      "4\n",
      "5\n",
      "döngü bitti\n"
     ]
    }
   ],
   "source": [
    "x = 1\n",
    "\n",
    "while x < 6:\n",
    "    print(x)\n",
    "    x += 1\n",
    "\n",
    "print(\"döngü bitti\")"
   ]
  },
  {
   "cell_type": "code",
   "execution_count": 12,
   "metadata": {},
   "outputs": [
    {
     "name": "stdout",
     "output_type": "stream",
     "text": [
      "1\n",
      "döngü bitti\n",
      "2\n",
      "döngü bitti\n",
      "3\n",
      "döngü bitti\n",
      "4\n",
      "döngü bitti\n",
      "5\n",
      "döngü bitti\n"
     ]
    }
   ],
   "source": [
    "x = 1\n",
    "\n",
    "while x < 6:\n",
    "    print(x)\n",
    "    x += 1\n",
    "\n",
    "    print(\"döngü bitti\")"
   ]
  },
  {
   "cell_type": "code",
   "execution_count": 13,
   "metadata": {},
   "outputs": [
    {
     "name": "stdout",
     "output_type": "stream",
     "text": [
      "1\n",
      "4\n",
      "9\n",
      "16\n",
      "25\n"
     ]
    }
   ],
   "source": [
    "x = 1\n",
    "\n",
    "while x <= 5:\n",
    "    print(x ** 2)\n",
    "    x += 1\n",
    "\n",
    "    # **: üs alma, \n",
    "    "
   ]
  },
  {
   "cell_type": "code",
   "execution_count": null,
   "metadata": {},
   "outputs": [],
   "source": [
    "# kullanıcıdan sayı isteyin sayı 50 den küçük ise döngü bitsin değilse devam etsin. \n",
    "\n",
    "x = int(input(\"Lütfen bir sayı giriniz: \"))\n",
    "\n",
    "while x < 50:\n",
    "    print(x)\n",
    "    x += 1"
   ]
  },
  {
   "cell_type": "code",
   "execution_count": 19,
   "metadata": {},
   "outputs": [
    {
     "name": "stdout",
     "output_type": "stream",
     "text": [
      "Dogru sayı giremediniz. Tekrar deneyiniz.\n"
     ]
    }
   ],
   "source": [
    "# kullanıcıdan sayı isteyin sayı 50 den küçük ise \n",
    "# döngü bitsin değilse devam etsin. \n",
    "\n",
    "x = int(input(\"Lütfen bir sayı giriniz: 1 ile 100 arasında\"))\n",
    "\n",
    "while x > 50:\n",
    "    x = int(input(\"Lütfen bir sayı giriniz: \"))\n",
    "    print(\"Dogru sayı giremediniz. Tekrar deneyiniz.\")"
   ]
  },
  {
   "cell_type": "code",
   "execution_count": 21,
   "metadata": {},
   "outputs": [
    {
     "name": "stdout",
     "output_type": "stream",
     "text": [
      "Şifre yanlış. Tekrar deneyiniz.\n",
      "Sisteme giriş yapıldı.\n"
     ]
    }
   ],
   "source": [
    "# Bankamatik şifre girme işleminin kodlarını yazın. \n",
    "# 3 hatalı girme hakkınız var. \n",
    "\n",
    "\n",
    "kayitli_sifre = 1234\n",
    "\n",
    "y = True\n",
    "\n",
    "while y:\n",
    "    sifre = int(input(\"Lütfen şifrenizi giriniz: \"))\n",
    "    if sifre == kayitli_sifre:\n",
    "        print(\"Sisteme giriş yapıldı.\")\n",
    "        y = False\n",
    "    else:\n",
    "        print(\"Şifre yanlış. Tekrar deneyiniz.\")"
   ]
  },
  {
   "cell_type": "code",
   "execution_count": null,
   "metadata": {},
   "outputs": [],
   "source": [
    "# Bankamatik şifre girme işleminin kodlarını yazın. \n",
    "# 3 hatalı girme hakkınız var. \n",
    "\n",
    "kayitli_sifre = 1234\n",
    "\n",
    "count = 0\n",
    "\n",
    "y = True\n",
    "\n",
    "while y:\n",
    "    sifre = int(input(\"Lütfen şifrenizi giriniz: \"))\n",
    "    if sifre == kayitli_sifre:\n",
    "        print(\"Sisteme giriş yapıldı.\")\n",
    "        y = False\n",
    "    else:\n",
    "        print(\"Şifre yanlış. Tekrar deneyiniz.\")\n",
    "        count += 1\n",
    "        if count == 3:\n",
    "            print(\"3 defa hatalı giriş yaptınız. Lütfen bankanız ile iletişime geçiniz.\")\n",
    "            y = False"
   ]
  },
  {
   "cell_type": "code",
   "execution_count": null,
   "metadata": {},
   "outputs": [],
   "source": [
    "# Bankamatik şifre girme işleminin kodlarını yazın. \n",
    "# 3 hatalı girme hakkınız var. \n",
    "\n",
    "kayıtlı_sifre = \"1234\"\n",
    "\n",
    "count = 0\n",
    "\n",
    "y = True\n",
    "\n",
    "while y:\n",
    "    count += 1\n",
    "    kullanıcı_girisi = input(\"Lütfen şifrenizi girin\")\n",
    "\n",
    "    if kayıtlı_sifre == kullanıcı_girisi:\n",
    "        print(\"işleme yönlendiriliyorsunuz\")\n",
    "        y = False\n",
    "    else:\n",
    "        print(\"Yanlış şifre. Şifrenizi tekrar girin\")\n",
    "    \n",
    "    if count == 3:\n",
    "        y = False\n",
    "        print(\"hakkınız doldu. Kartınız bloke oldu\")\n"
   ]
  },
  {
   "cell_type": "code",
   "execution_count": null,
   "metadata": {},
   "outputs": [],
   "source": [
    "# Bankamatik şifre girme işleminin kodlarını yazın. \n",
    "# 3 hatalı girme hakkınız var. \n",
    "\n",
    "kayıtlı_sifre = \"1234\"\n",
    "\n",
    "count = 0\n",
    "\n",
    "y = True\n",
    "\n",
    "while y:\n",
    "    count += 1\n",
    "    kullanıcı_girisi = input(\"Lütfen şifrenizi girin\")\n",
    "\n",
    "    if kayıtlı_sifre == kullanıcı_girisi:\n",
    "        print(\"işleme yönlendiriliyorsunuz\")\n",
    "        y = False\n",
    "        break\n",
    "    \n",
    "    if count == 3:\n",
    "        y = False\n",
    "        print(\"hakkınız doldu. Kartınız bloke oldu\")\n",
    "    else:\n",
    "        print(\"Yanlış şifre. Şifrenizi tekrar girin\")"
   ]
  },
  {
   "cell_type": "code",
   "execution_count": 22,
   "metadata": {},
   "outputs": [
    {
     "name": "stdout",
     "output_type": "stream",
     "text": [
      "1\n",
      "4\n",
      "9\n",
      "16\n",
      "25\n",
      "36\n",
      "49\n",
      "64\n",
      "81\n",
      "100\n"
     ]
    }
   ],
   "source": [
    "# Listenin elemanlarının karesini döndüren kodu yazın. \n",
    "# while ile çözün. \n",
    "\n",
    "liste = [1,2,3,4,5,6,7,8,9,10]\n",
    "\n",
    "x = 0\n",
    "\n",
    "while x < len(liste):\n",
    "    print(liste[x] ** 2)\n",
    "    x += 1\n",
    "\n",
    "    # len(): uzunluk, length"
   ]
  },
  {
   "cell_type": "code",
   "execution_count": null,
   "metadata": {},
   "outputs": [],
   "source": [
    "# Listenin elemanlarının karesini döndüren kodu yazın. \n",
    "# while ile çözün. \n",
    "\n",
    "sayılar_listesi = [1,3,6,8,11,15]\n",
    "\n",
    "x = 0\n",
    "\n",
    "while x < 6:\n",
    "\n",
    "    print(sayılar_listesi[x] ** 2)\n",
    "\n",
    "    x += 1"
   ]
  },
  {
   "cell_type": "code",
   "execution_count": 23,
   "metadata": {},
   "outputs": [
    {
     "name": "stdout",
     "output_type": "stream",
     "text": [
      "[1, 9, 36, 64, 121, 225]\n"
     ]
    }
   ],
   "source": [
    "# Listenin elemanlarının karesini liste içinde döndüren kodu yazın. \n",
    "# while ile çözün. \n",
    "\n",
    "liste = [1,3,6,8,11,15]\n",
    "x = 0\n",
    "result_list = []\n",
    "\n",
    "while x < len(liste):\n",
    "    result_list.append(liste[x] ** 2)\n",
    "    x += 1\n",
    "\n",
    "\n",
    "print(result_list)\n",
    "\n",
    "\n",
    "# append(): listeye eleman eklemek için kullanılır."
   ]
  },
  {
   "cell_type": "code",
   "execution_count": null,
   "metadata": {},
   "outputs": [],
   "source": []
  },
  {
   "cell_type": "code",
   "execution_count": null,
   "metadata": {},
   "outputs": [],
   "source": []
  },
  {
   "cell_type": "code",
   "execution_count": null,
   "metadata": {},
   "outputs": [],
   "source": []
  },
  {
   "cell_type": "code",
   "execution_count": null,
   "metadata": {},
   "outputs": [],
   "source": []
  },
  {
   "cell_type": "code",
   "execution_count": null,
   "metadata": {},
   "outputs": [],
   "source": []
  },
  {
   "cell_type": "code",
   "execution_count": null,
   "metadata": {},
   "outputs": [],
   "source": []
  }
 ],
 "metadata": {
  "kernelspec": {
   "display_name": "Python 3",
   "language": "python",
   "name": "python3"
  },
  "language_info": {
   "codemirror_mode": {
    "name": "ipython",
    "version": 3
   },
   "file_extension": ".py",
   "mimetype": "text/x-python",
   "name": "python",
   "nbconvert_exporter": "python",
   "pygments_lexer": "ipython3",
   "version": "3.11.6"
  },
  "orig_nbformat": 4
 },
 "nbformat": 4,
 "nbformat_minor": 2
}
